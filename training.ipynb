{
 "cells": [
  {
   "cell_type": "markdown",
   "metadata": {},
   "source": [
    "# Phishing-Url-Detection-Analysis"
   ]
  },
  {
   "cell_type": "markdown",
   "metadata": {},
   "source": [
    "# Imports"
   ]
  },
  {
   "cell_type": "code",
   "execution_count": 2,
   "metadata": {},
   "outputs": [],
   "source": [
    "import pandas as pd\n",
    "import numpy as np\n",
    "import seaborn as sns\n",
    "import matplotlib.pyplot as plt\n"
   ]
  },
  {
   "cell_type": "markdown",
   "metadata": {},
   "source": [
    "# Functions"
   ]
  },
  {
   "cell_type": "code",
   "execution_count": 50,
   "metadata": {},
   "outputs": [],
   "source": [
    "def check_for_nulls_dupes(df):\n",
    "  print(f\"The amount of Null Values: {df.isna().sum()}\")\n",
    "  print(f\"The amount of Duplicated Values {df.duplicated().sum()}\")\n",
    "\n",
    "def check_class_imbalance(target):\n",
    "  unique, counts = np.unique(target, return_counts=True)\n",
    "  \n",
    "  plt.figure(figsize=(10, 7))\n",
    "  plt.pie(counts, labels=unique, startangle=140, autopct=\"%1.1f%%\")\n",
    "  plt.title(\"Target Class Breakdown\")\n",
    "  plt.legend()\n",
    "  plt.show()\n",
    "  \n",
    "  plt.figure(figsize=(10, 7))\n",
    "  sns.countplot(x=target)\n",
    "  plt.xlabel(\"Target Class Breakdown\")\n",
    "  plt.ylabel(\"Counts\")\n",
    "  plt.show()\n",
    "\n",
    "def plot_distribution(df, kind):\n",
    "  \n",
    "  plt.figure(figsize=(16,16))\n",
    "  columns = len(df.columns)\n",
    "  rows = (columns + 3) //4\n",
    "  \n",
    "  for idx, col in enumerate(df.columns):\n",
    "    if col == \"Type\":\n",
    "      continue\n",
    "    plt.subplot(rows ,4, idx+1)\n",
    "    sns.histplot(df[col], kde=True) if kind == \"hist\" else plt.boxplot(df[col])\n",
    "    plt.title(f\"Distribuition of {col}\")\n",
    "    plt.ylabel(\"Counts\")\n",
    "\n",
    "  plt.tight_layout()\n",
    "  plt.show()\n",
    "\n",
    "def convert_boolean_cols(df, columns):\n",
    "  \n",
    "  for col in columns:\n",
    "    df[col] = df[col].apply(lambda x: 1 if x == True else 0)\n",
    "  \n",
    "  return df"
   ]
  },
  {
   "cell_type": "markdown",
   "metadata": {},
   "source": [
    "# EDA Analysis"
   ]
  },
  {
   "cell_type": "code",
   "execution_count": 39,
   "metadata": {},
   "outputs": [],
   "source": [
    "legit_records, phishing_records = [], []\n",
    "chunk_size = 10000\n",
    "file_path = \"/Users/maukanmir/Downloads/out.csv\"\n",
    "target_labels = ['legitimate', 'phishing']\n",
    "target_count = 12500\n",
    "legitimate_count = 0\n",
    "phishing_count = 0\n",
    "\n",
    "for chunk in pd.read_csv(file_path, chunksize=chunk_size):\n",
    "    filtered_chunk = chunk[chunk['label'].isin(target_labels)]\n",
    "\n",
    "    legitimate_chunk = filtered_chunk[filtered_chunk['label'] == 'legitimate']\n",
    "    phishing_chunk = filtered_chunk[filtered_chunk['label'] == 'phishing']\n",
    "    \n",
    "    if legitimate_count < target_count:\n",
    "        legit_needed = target_count - legitimate_count\n",
    "        legit_records.append(legitimate_chunk[:legit_needed])\n",
    "        legitimate_count += len(legitimate_chunk[:legit_needed])\n",
    "    \n",
    "    if phishing_count < target_count:\n",
    "        phishing_needed = target_count - phishing_count\n",
    "        phishing_records.append(phishing_chunk[:phishing_needed])\n",
    "        phishing_count += len(phishing_chunk[:phishing_needed])\n",
    "    \n",
    "    if legitimate_count >= target_count and phishing_count >= target_count:\n",
    "        break\n",
    "\n",
    "final_legitimate_df = pd.concat(legit_records)\n",
    "final_phishing_df = pd.concat(phishing_records)\n",
    "df = pd.concat([final_legitimate_df, final_phishing_df])"
   ]
  },
  {
   "cell_type": "code",
   "execution_count": 41,
   "metadata": {},
   "outputs": [
    {
     "data": {
      "text/html": [
       "<div>\n",
       "<style scoped>\n",
       "    .dataframe tbody tr th:only-of-type {\n",
       "        vertical-align: middle;\n",
       "    }\n",
       "\n",
       "    .dataframe tbody tr th {\n",
       "        vertical-align: top;\n",
       "    }\n",
       "\n",
       "    .dataframe thead th {\n",
       "        text-align: right;\n",
       "    }\n",
       "</style>\n",
       "<table border=\"1\" class=\"dataframe\">\n",
       "  <thead>\n",
       "    <tr style=\"text-align: right;\">\n",
       "      <th></th>\n",
       "      <th>url_length</th>\n",
       "      <th>url_entropy</th>\n",
       "      <th>digit_letter_ratio</th>\n",
       "      <th>dot_count</th>\n",
       "      <th>at_count</th>\n",
       "      <th>dash_count</th>\n",
       "      <th>tld_count</th>\n",
       "      <th>subdomain_count</th>\n",
       "      <th>nan_char_entropy</th>\n",
       "      <th>domain_age_days</th>\n",
       "    </tr>\n",
       "  </thead>\n",
       "  <tbody>\n",
       "    <tr>\n",
       "      <th>count</th>\n",
       "      <td>25000.000000</td>\n",
       "      <td>25000.000000</td>\n",
       "      <td>25000.000000</td>\n",
       "      <td>25000.000000</td>\n",
       "      <td>25000.000000</td>\n",
       "      <td>25000.00000</td>\n",
       "      <td>25000.000000</td>\n",
       "      <td>25000.000000</td>\n",
       "      <td>25000.000000</td>\n",
       "      <td>18069.000000</td>\n",
       "    </tr>\n",
       "    <tr>\n",
       "      <th>mean</th>\n",
       "      <td>45.754120</td>\n",
       "      <td>3.907296</td>\n",
       "      <td>0.117739</td>\n",
       "      <td>2.193400</td>\n",
       "      <td>0.011440</td>\n",
       "      <td>0.74220</td>\n",
       "      <td>0.040800</td>\n",
       "      <td>0.798320</td>\n",
       "      <td>0.465772</td>\n",
       "      <td>4840.316675</td>\n",
       "    </tr>\n",
       "    <tr>\n",
       "      <th>std</th>\n",
       "      <td>73.999802</td>\n",
       "      <td>0.633720</td>\n",
       "      <td>0.244869</td>\n",
       "      <td>1.885115</td>\n",
       "      <td>0.127553</td>\n",
       "      <td>1.65887</td>\n",
       "      <td>0.397519</td>\n",
       "      <td>1.197707</td>\n",
       "      <td>0.188809</td>\n",
       "      <td>3344.289001</td>\n",
       "    </tr>\n",
       "    <tr>\n",
       "      <th>min</th>\n",
       "      <td>5.000000</td>\n",
       "      <td>1.750000</td>\n",
       "      <td>0.000000</td>\n",
       "      <td>1.000000</td>\n",
       "      <td>0.000000</td>\n",
       "      <td>0.00000</td>\n",
       "      <td>0.000000</td>\n",
       "      <td>0.000000</td>\n",
       "      <td>0.097627</td>\n",
       "      <td>0.000000</td>\n",
       "    </tr>\n",
       "    <tr>\n",
       "      <th>25%</th>\n",
       "      <td>17.000000</td>\n",
       "      <td>3.452820</td>\n",
       "      <td>0.000000</td>\n",
       "      <td>1.000000</td>\n",
       "      <td>0.000000</td>\n",
       "      <td>0.00000</td>\n",
       "      <td>0.000000</td>\n",
       "      <td>0.000000</td>\n",
       "      <td>0.306397</td>\n",
       "      <td>1942.000000</td>\n",
       "    </tr>\n",
       "    <tr>\n",
       "      <th>50%</th>\n",
       "      <td>29.000000</td>\n",
       "      <td>3.913800</td>\n",
       "      <td>0.000000</td>\n",
       "      <td>2.000000</td>\n",
       "      <td>0.000000</td>\n",
       "      <td>0.00000</td>\n",
       "      <td>0.000000</td>\n",
       "      <td>1.000000</td>\n",
       "      <td>0.415452</td>\n",
       "      <td>4281.000000</td>\n",
       "    </tr>\n",
       "    <tr>\n",
       "      <th>75%</th>\n",
       "      <td>51.000000</td>\n",
       "      <td>4.323955</td>\n",
       "      <td>0.133333</td>\n",
       "      <td>3.000000</td>\n",
       "      <td>0.000000</td>\n",
       "      <td>1.00000</td>\n",
       "      <td>0.000000</td>\n",
       "      <td>1.000000</td>\n",
       "      <td>0.619279</td>\n",
       "      <td>7716.000000</td>\n",
       "    </tr>\n",
       "    <tr>\n",
       "      <th>max</th>\n",
       "      <td>4716.000000</td>\n",
       "      <td>5.987969</td>\n",
       "      <td>3.909091</td>\n",
       "      <td>109.000000</td>\n",
       "      <td>4.000000</td>\n",
       "      <td>118.00000</td>\n",
       "      <td>28.000000</td>\n",
       "      <td>35.000000</td>\n",
       "      <td>1.403592</td>\n",
       "      <td>14382.000000</td>\n",
       "    </tr>\n",
       "  </tbody>\n",
       "</table>\n",
       "</div>"
      ],
      "text/plain": [
       "         url_length   url_entropy  digit_letter_ratio     dot_count  \\\n",
       "count  25000.000000  25000.000000        25000.000000  25000.000000   \n",
       "mean      45.754120      3.907296            0.117739      2.193400   \n",
       "std       73.999802      0.633720            0.244869      1.885115   \n",
       "min        5.000000      1.750000            0.000000      1.000000   \n",
       "25%       17.000000      3.452820            0.000000      1.000000   \n",
       "50%       29.000000      3.913800            0.000000      2.000000   \n",
       "75%       51.000000      4.323955            0.133333      3.000000   \n",
       "max     4716.000000      5.987969            3.909091    109.000000   \n",
       "\n",
       "           at_count   dash_count     tld_count  subdomain_count  \\\n",
       "count  25000.000000  25000.00000  25000.000000     25000.000000   \n",
       "mean       0.011440      0.74220      0.040800         0.798320   \n",
       "std        0.127553      1.65887      0.397519         1.197707   \n",
       "min        0.000000      0.00000      0.000000         0.000000   \n",
       "25%        0.000000      0.00000      0.000000         0.000000   \n",
       "50%        0.000000      0.00000      0.000000         1.000000   \n",
       "75%        0.000000      1.00000      0.000000         1.000000   \n",
       "max        4.000000    118.00000     28.000000        35.000000   \n",
       "\n",
       "       nan_char_entropy  domain_age_days  \n",
       "count      25000.000000     18069.000000  \n",
       "mean           0.465772      4840.316675  \n",
       "std            0.188809      3344.289001  \n",
       "min            0.097627         0.000000  \n",
       "25%            0.306397      1942.000000  \n",
       "50%            0.415452      4281.000000  \n",
       "75%            0.619279      7716.000000  \n",
       "max            1.403592     14382.000000  "
      ]
     },
     "execution_count": 41,
     "metadata": {},
     "output_type": "execute_result"
    }
   ],
   "source": [
    "df.describe()"
   ]
  },
  {
   "cell_type": "markdown",
   "metadata": {},
   "source": [
    "# Check For Nulls And Dupes"
   ]
  },
  {
   "cell_type": "code",
   "execution_count": 42,
   "metadata": {},
   "outputs": [
    {
     "name": "stdout",
     "output_type": "stream",
     "text": [
      "The amount of Null Values: url                      0\n",
      "source                   0\n",
      "label                    0\n",
      "url_length               0\n",
      "starts_with_ip           0\n",
      "url_entropy              0\n",
      "has_punycode             0\n",
      "digit_letter_ratio       0\n",
      "dot_count                0\n",
      "at_count                 0\n",
      "dash_count               0\n",
      "tld_count                0\n",
      "domain_has_digits        0\n",
      "subdomain_count          0\n",
      "nan_char_entropy         0\n",
      "has_internal_links       0\n",
      "whois_data            4613\n",
      "domain_age_days       6931\n",
      "dtype: int64\n",
      "The amount of Duplicated Values 0\n"
     ]
    }
   ],
   "source": [
    "check_for_nulls_dupes(df)"
   ]
  },
  {
   "cell_type": "code",
   "execution_count": 49,
   "metadata": {},
   "outputs": [
    {
     "data": {
      "text/plain": [
       "url                    object\n",
       "source                 object\n",
       "label                  object\n",
       "url_length              int64\n",
       "starts_with_ip           bool\n",
       "url_entropy           float64\n",
       "has_punycode             bool\n",
       "digit_letter_ratio    float64\n",
       "dot_count               int64\n",
       "at_count                int64\n",
       "dash_count              int64\n",
       "tld_count               int64\n",
       "domain_has_digits        bool\n",
       "subdomain_count         int64\n",
       "nan_char_entropy      float64\n",
       "has_internal_links       bool\n",
       "domain_age_days       float64\n",
       "dtype: object"
      ]
     },
     "execution_count": 49,
     "metadata": {},
     "output_type": "execute_result"
    }
   ],
   "source": [
    "df.dtypes"
   ]
  },
  {
   "cell_type": "code",
   "execution_count": 43,
   "metadata": {},
   "outputs": [
    {
     "data": {
      "text/plain": [
       "array([\"{'domain_name': ['ARUBANETWORKS.COM', 'arubanetworks.com'], 'registrar': 'MarkMonitor, Inc.', 'whois_server': 'whois.markmonitor.com', 'referral_url': None, 'updated_date': ['2024-04-17T14:29:21.000', '2024-04-17T14:29:21.000Z'], 'creation_date': ['2002-02-06T02:15:38.000', '2002-02-06T02:15:38.000Z'], 'expiration_date': ['2026-02-06T02:15:38.000', '2026-02-06T00:00:00.000Z'], 'name_servers': ['NS-1473.AWSDNS-56.ORG', 'NS-1639.AWSDNS-12.CO.UK', 'NS-299.AWSDNS-37.COM', 'NS-751.AWSDNS-29.NET', 'ns-751.awsdns-29.net', 'ns-299.awsdns-37.com', 'ns-1639.awsdns-12.co.uk', 'ns-1473.awsdns-56.org'], 'status': ['clientDeleteProhibited https://icann.org/epp#clientDeleteProhibited', 'clientTransferProhibited https://icann.org/epp#clientTransferProhibited', 'clientUpdateProhibited https://icann.org/epp#clientUpdateProhibited', 'serverDeleteProhibited https://icann.org/epp#serverDeleteProhibited', 'serverTransferProhibited https://icann.org/epp#serverTransferProhibited', 'serverUpdateProhibited https://icann.org/epp#serverUpdateProhibited', 'clientUpdateProhibited (https://www.icann.org/epp#clientUpdateProhibited)', 'clientTransferProhibited (https://www.icann.org/epp#clientTransferProhibited)', 'clientDeleteProhibited (https://www.icann.org/epp#clientDeleteProhibited)', 'serverUpdateProhibited (https://www.icann.org/epp#serverUpdateProhibited)', 'serverTransferProhibited (https://www.icann.org/epp#serverTransferProhibited)', 'serverDeleteProhibited (https://www.icann.org/epp#serverDeleteProhibited)'], 'emails': ['abusecomplaints@markmonitor.com', 'hpe.domains@hpe.com', 'whoisrequest@markmonitor.com'], 'dnssec': 'unsigned', 'name': 'Domain Administrator', 'org': 'Hewlett Packard Enterprise Company', 'address': '1701 E Mossy Oaks Road', 'city': 'Spring', 'state': 'TX', 'registrant_postal_code': '77389', 'country': 'US'}\",\n",
       "       \"{'domain_name': ['QUINTADONOVAL.COM', 'quintadonoval.com'], 'registrar': 'IP Twins SAS', 'whois_server': 'whois.rrpproxy.net', 'referral_url': None, 'updated_date': '2020-12-09T15:09:08.000', 'creation_date': '1997-01-07T05:00:00.000', 'expiration_date': '2026-01-06T05:00:00.000', 'name_servers': ['NS1.IPTWINS.NET', 'NS2.IPTWINS.NET', 'NS3.IPTWINS.COM', 'NS4.IPTWINS.COM', 'ns1.iptwins.net', 'ns2.iptwins.net', 'ns3.iptwins.com', 'ns4.iptwins.com'], 'status': 'clientTransferProhibited https://icann.org/epp#clientTransferProhibited', 'emails': ['abuse@iptwins.com', 'info@domain-contact.org'], 'dnssec': 'unsigned', 'name': 'REDACTED FOR PRIVACY', 'org': 'REDACTED FOR PRIVACY', 'address': 'REDACTED FOR PRIVACY', 'city': 'REDACTED FOR PRIVACY', 'state': None, 'registrant_postal_code': 'REDACTED FOR PRIVACY', 'country': 'PT'}\",\n",
       "       \"{'domain_name': ['NOMADFACTORY.COM', 'nomadfactory.com'], 'registrar': 'OVH, SAS', 'whois_server': 'whois.ovh.com', 'referral_url': None, 'updated_date': ['2024-06-26T07:35:08.000', '2023-05-31T23:48:47.000'], 'creation_date': '2002-06-25T20:54:55.000', 'expiration_date': ['2025-06-25T21:00:11.000', '2024-06-25T21:00:11.000'], 'name_servers': ['NS41.PLUGIVERY.NET', 'NS42.PLUGIVERY.NET', 'NS43.PLUGIVERY.NET', 'NS44.PLUGIVERY.NET', 'ns43.plugivery.net', 'ns44.plugivery.net', 'ns41.plugivery.net', 'ns42.plugivery.net'], 'status': ['clientDeleteProhibited https://icann.org/epp#clientDeleteProhibited', 'clientTransferProhibited https://icann.org/epp#clientTransferProhibited'], 'emails': 'abuse@ovh.net', 'dnssec': 'unsigned', 'name': 'REDACTED FOR PRIVACY', 'org': None, 'address': 'REDACTED FOR PRIVACY', 'city': 'REDACTED FOR PRIVACY', 'state': None, 'registrant_postal_code': 'REDACTED FOR PRIVACY', 'country': 'FR'}\",\n",
       "       ...,\n",
       "       \"{'domain_name': 'tusi.sg', 'registrant_name': None, 'registrar': 'Web Commerce Communications (S) Pte Ltd', 'creation_date': '2011-05-03T09:01:31.000', 'expiration_date': None, 'dnssec': None}\",\n",
       "       \"{'domain_name': 'YILMAZSAKATAT.COM', 'registrar': 'FBS Inc.', 'whois_server': 'whois.isimtescil.net', 'referral_url': None, 'updated_date': '2014-12-25T18:20:38.000', 'creation_date': '2014-12-20T12:17:00.000', 'expiration_date': '2024-12-20T12:17:00.000', 'name_servers': ['NS7.TURKADNS.COM', 'NS8.TURKADNS.COM'], 'status': 'clientTransferProhibited https://icann.org/epp#clientTransferProhibited', 'emails': 'abuse@isimtescil.net', 'dnssec': 'unsigned', 'name': None, 'org': None, 'address': None, 'city': None, 'state': None, 'registrant_postal_code': None, 'country': None}\",\n",
       "       \"{'domain_name': 'BALMORALMORTGAGEBROKERS.COM', 'registrar': '123-Reg Limited', 'whois_server': 'whois.123-reg.co.uk', 'referral_url': None, 'updated_date': '2024-08-14T19:58:49.000', 'creation_date': '2023-08-09T09:56:42.000', 'expiration_date': '2025-08-09T09:56:42.000', 'name_servers': ['NS41.DOMAINCONTROL.COM', 'NS42.DOMAINCONTROL.COM'], 'status': 'ok https://icann.org/epp#ok', 'emails': None, 'dnssec': 'unsigned', 'name': None, 'org': None, 'address': None, 'city': None, 'state': None, 'registrant_postal_code': None, 'country': None}\"],\n",
       "      dtype=object)"
      ]
     },
     "execution_count": 43,
     "metadata": {},
     "output_type": "execute_result"
    }
   ],
   "source": [
    "df[\"whois_data\"].unique()"
   ]
  },
  {
   "cell_type": "code",
   "execution_count": 44,
   "metadata": {},
   "outputs": [
    {
     "name": "stdout",
     "output_type": "stream",
     "text": [
      "4840.316674968178\n"
     ]
    }
   ],
   "source": [
    "print(df[\"domain_age_days\"].mean())"
   ]
  },
  {
   "cell_type": "code",
   "execution_count": 45,
   "metadata": {},
   "outputs": [
    {
     "name": "stdout",
     "output_type": "stream",
     "text": [
      "4281.0\n"
     ]
    }
   ],
   "source": [
    "print(df[\"domain_age_days\"].median())"
   ]
  },
  {
   "cell_type": "markdown",
   "metadata": {},
   "source": [
    "# Check Class Imbalance"
   ]
  },
  {
   "cell_type": "code",
   "execution_count": 46,
   "metadata": {},
   "outputs": [
    {
     "data": {
      "image/png": "[encoded data removed]",
      "text/plain": [
       "<Figure size 1000x700 with 1 Axes>"
      ]
     },
     "metadata": {},
     "output_type": "display_data"
    },
    {
     "data": {
      "image/png": "[encoded data removed]",
      "text/plain": [
       "<Figure size 1000x700 with 1 Axes>"
      ]
     },
     "metadata": {},
     "output_type": "display_data"
    }
   ],
   "source": [
    "check_class_imbalance(df[\"label\"])"
   ]
  },
  {
   "cell_type": "code",
   "execution_count": 47,
   "metadata": {},
   "outputs": [],
   "source": [
    "df.drop(\"whois_data\", axis=1, inplace=True)"
   ]
  },
  {
   "cell_type": "code",
   "execution_count": 25,
   "metadata": {},
   "outputs": [],
   "source": [
    "categorical_types = df.select_dtypes(include=\"object\")\n",
    "numerical_types = df.select_dtypes(exclude=\"object\")"
   ]
  },
  {
   "cell_type": "code",
   "execution_count": 51,
   "metadata": {},
   "outputs": [],
   "source": [
    "boolean_types = numerical_types.select_dtypes(include=\"bool\").columns\n",
    "numerical_types = convert_boolean_cols(numerical_types, boolean_types)"
   ]
  },
  {
   "cell_type": "code",
   "execution_count": 52,
   "metadata": {},
   "outputs": [],
   "source": [
    "plot_distribution(numerical_types, \"hist\")\n",
    "plot_distribution(numerical_types, \"box\")"
   ]
  },
  {
   "cell_type": "code",
   "execution_count": null,
   "metadata": {},
   "outputs": [],
   "source": []
  }
 ],
 "metadata": {
  "kernelspec": {
   "display_name": "machine-learning-env",
   "language": "python",
   "name": "python3"
  },
  "language_info": {
   "codemirror_mode": {
    "name": "ipython",
    "version": 3
   },
   "file_extension": ".py",
   "mimetype": "text/x-python",
   "name": "python",
   "nbconvert_exporter": "python",
   "pygments_lexer": "ipython3",
   "version": "3.9.19"
  }
 },
 "nbformat": 4,
 "nbformat_minor": 2
}
